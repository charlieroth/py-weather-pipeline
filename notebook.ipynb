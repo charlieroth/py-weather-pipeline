{
 "cells": [
  {
   "cell_type": "code",
   "execution_count": 1,
   "metadata": {},
   "outputs": [],
   "source": [
    "import polars as pl"
   ]
  },
  {
   "cell_type": "code",
   "execution_count": 4,
   "metadata": {},
   "outputs": [],
   "source": [
    "csv_file_path = \"/Users/charlie/github.com/charlieroth/py-weather-pipeline/data/livonia-20150101-20250101.csv\""
   ]
  },
  {
   "cell_type": "code",
   "execution_count": 18,
   "metadata": {},
   "outputs": [
    {
     "data": {
      "text/html": [
       "<div><style>\n",
       ".dataframe > thead > tr,\n",
       ".dataframe > tbody > tr {\n",
       "  text-align: right;\n",
       "  white-space: pre-wrap;\n",
       "}\n",
       "</style>\n",
       "<small>shape: (5, 28)</small><table border=\"1\" class=\"dataframe\"><thead><tr><th>dt</th><th>dt_iso</th><th>timezone</th><th>city_name</th><th>lat</th><th>lon</th><th>temp</th><th>visibility</th><th>dew_point</th><th>feels_like</th><th>temp_min</th><th>temp_max</th><th>pressure</th><th>sea_level</th><th>grnd_level</th><th>humidity</th><th>wind_speed</th><th>wind_deg</th><th>wind_gust</th><th>rain_1h</th><th>rain_3h</th><th>snow_1h</th><th>snow_3h</th><th>clouds_all</th><th>weather_id</th><th>weather_main</th><th>weather_description</th><th>weather_icon</th></tr><tr><td>i64</td><td>str</td><td>i64</td><td>str</td><td>f64</td><td>f64</td><td>f64</td><td>i64</td><td>f64</td><td>f64</td><td>f64</td><td>f64</td><td>i64</td><td>str</td><td>str</td><td>i64</td><td>f64</td><td>i64</td><td>f64</td><td>str</td><td>str</td><td>f64</td><td>str</td><td>i64</td><td>i64</td><td>str</td><td>str</td><td>str</td></tr></thead><tbody><tr><td>1420070400</td><td>&quot;2015-01-01 00:00:00 +0000 UTC&quot;</td><td>-18000</td><td>&quot;Livonia&quot;</td><td>42.36837</td><td>-83.35271</td><td>264.66</td><td>10000</td><td>256.1</td><td>257.66</td><td>264.51</td><td>265.0</td><td>1024</td><td>null</td><td>null</td><td>46</td><td>6.2</td><td>220</td><td>null</td><td>null</td><td>null</td><td>null</td><td>null</td><td>40</td><td>802</td><td>&quot;Clouds&quot;</td><td>&quot;scattered clouds&quot;</td><td>&quot;03n&quot;</td></tr><tr><td>1420074000</td><td>&quot;2015-01-01 01:00:00 +0000 UTC&quot;</td><td>-18000</td><td>&quot;Livonia&quot;</td><td>42.36837</td><td>-83.35271</td><td>264.64</td><td>10000</td><td>256.08</td><td>257.64</td><td>264.42</td><td>264.99</td><td>1023</td><td>null</td><td>null</td><td>46</td><td>7.2</td><td>200</td><td>10.8</td><td>null</td><td>null</td><td>null</td><td>null</td><td>20</td><td>801</td><td>&quot;Clouds&quot;</td><td>&quot;few clouds&quot;</td><td>&quot;02n&quot;</td></tr><tr><td>1420077600</td><td>&quot;2015-01-01 02:00:00 +0000 UTC&quot;</td><td>-18000</td><td>&quot;Livonia&quot;</td><td>42.36837</td><td>-83.35271</td><td>264.62</td><td>10000</td><td>256.96</td><td>257.62</td><td>264.36</td><td>264.97</td><td>1022</td><td>null</td><td>null</td><td>50</td><td>10.3</td><td>210</td><td>null</td><td>null</td><td>null</td><td>null</td><td>null</td><td>75</td><td>803</td><td>&quot;Clouds&quot;</td><td>&quot;broken clouds&quot;</td><td>&quot;04n&quot;</td></tr><tr><td>1420081200</td><td>&quot;2015-01-01 03:00:00 +0000 UTC&quot;</td><td>-18000</td><td>&quot;Livonia&quot;</td><td>42.36837</td><td>-83.35271</td><td>264.96</td><td>10000</td><td>257.9</td><td>257.96</td><td>264.66</td><td>265.26</td><td>1022</td><td>null</td><td>null</td><td>53</td><td>10.8</td><td>220</td><td>null</td><td>null</td><td>null</td><td>null</td><td>null</td><td>40</td><td>802</td><td>&quot;Clouds&quot;</td><td>&quot;scattered clouds&quot;</td><td>&quot;03n&quot;</td></tr><tr><td>1420084800</td><td>&quot;2015-01-01 04:00:00 +0000 UTC&quot;</td><td>-18000</td><td>&quot;Livonia&quot;</td><td>42.36837</td><td>-83.35271</td><td>265.13</td><td>10000</td><td>258.07</td><td>258.13</td><td>264.86</td><td>265.38</td><td>1021</td><td>null</td><td>null</td><td>53</td><td>8.2</td><td>220</td><td>null</td><td>null</td><td>null</td><td>null</td><td>null</td><td>100</td><td>804</td><td>&quot;Clouds&quot;</td><td>&quot;overcast clouds&quot;</td><td>&quot;04n&quot;</td></tr></tbody></table></div>"
      ],
      "text/plain": [
       "shape: (5, 28)\n",
       "┌───────────┬───────────┬──────────┬───────────┬───┬───────────┬───────────┬───────────┬───────────┐\n",
       "│ dt        ┆ dt_iso    ┆ timezone ┆ city_name ┆ … ┆ weather_i ┆ weather_m ┆ weather_d ┆ weather_i │\n",
       "│ ---       ┆ ---       ┆ ---      ┆ ---       ┆   ┆ d         ┆ ain       ┆ escriptio ┆ con       │\n",
       "│ i64       ┆ str       ┆ i64      ┆ str       ┆   ┆ ---       ┆ ---       ┆ n         ┆ ---       │\n",
       "│           ┆           ┆          ┆           ┆   ┆ i64       ┆ str       ┆ ---       ┆ str       │\n",
       "│           ┆           ┆          ┆           ┆   ┆           ┆           ┆ str       ┆           │\n",
       "╞═══════════╪═══════════╪══════════╪═══════════╪═══╪═══════════╪═══════════╪═══════════╪═══════════╡\n",
       "│ 142007040 ┆ 2015-01-0 ┆ -18000   ┆ Livonia   ┆ … ┆ 802       ┆ Clouds    ┆ scattered ┆ 03n       │\n",
       "│ 0         ┆ 1         ┆          ┆           ┆   ┆           ┆           ┆ clouds    ┆           │\n",
       "│           ┆ 00:00:00  ┆          ┆           ┆   ┆           ┆           ┆           ┆           │\n",
       "│           ┆ +0000 UTC ┆          ┆           ┆   ┆           ┆           ┆           ┆           │\n",
       "│ 142007400 ┆ 2015-01-0 ┆ -18000   ┆ Livonia   ┆ … ┆ 801       ┆ Clouds    ┆ few       ┆ 02n       │\n",
       "│ 0         ┆ 1         ┆          ┆           ┆   ┆           ┆           ┆ clouds    ┆           │\n",
       "│           ┆ 01:00:00  ┆          ┆           ┆   ┆           ┆           ┆           ┆           │\n",
       "│           ┆ +0000 UTC ┆          ┆           ┆   ┆           ┆           ┆           ┆           │\n",
       "│ 142007760 ┆ 2015-01-0 ┆ -18000   ┆ Livonia   ┆ … ┆ 803       ┆ Clouds    ┆ broken    ┆ 04n       │\n",
       "│ 0         ┆ 1         ┆          ┆           ┆   ┆           ┆           ┆ clouds    ┆           │\n",
       "│           ┆ 02:00:00  ┆          ┆           ┆   ┆           ┆           ┆           ┆           │\n",
       "│           ┆ +0000 UTC ┆          ┆           ┆   ┆           ┆           ┆           ┆           │\n",
       "│ 142008120 ┆ 2015-01-0 ┆ -18000   ┆ Livonia   ┆ … ┆ 802       ┆ Clouds    ┆ scattered ┆ 03n       │\n",
       "│ 0         ┆ 1         ┆          ┆           ┆   ┆           ┆           ┆ clouds    ┆           │\n",
       "│           ┆ 03:00:00  ┆          ┆           ┆   ┆           ┆           ┆           ┆           │\n",
       "│           ┆ +0000 UTC ┆          ┆           ┆   ┆           ┆           ┆           ┆           │\n",
       "│ 142008480 ┆ 2015-01-0 ┆ -18000   ┆ Livonia   ┆ … ┆ 804       ┆ Clouds    ┆ overcast  ┆ 04n       │\n",
       "│ 0         ┆ 1         ┆          ┆           ┆   ┆           ┆           ┆ clouds    ┆           │\n",
       "│           ┆ 04:00:00  ┆          ┆           ┆   ┆           ┆           ┆           ┆           │\n",
       "│           ┆ +0000 UTC ┆          ┆           ┆   ┆           ┆           ┆           ┆           │\n",
       "└───────────┴───────────┴──────────┴───────────┴───┴───────────┴───────────┴───────────┴───────────┘"
      ]
     },
     "execution_count": 18,
     "metadata": {},
     "output_type": "execute_result"
    }
   ],
   "source": [
    "df = pl.read_csv(\n",
    "  csv_file_path,\n",
    "  null_values=[\"null\"]\n",
    ")\n",
    "df.head()"
   ]
  },
  {
   "cell_type": "code",
   "execution_count": 15,
   "metadata": {},
   "outputs": [
    {
     "name": "stdout",
     "output_type": "stream",
     "text": [
      "All records in range: True\n"
     ]
    }
   ],
   "source": [
    "# Check if dt_iso column values are within the expected date range\n",
    "dt_iso_series = df[\"dt_iso\"]\n",
    "# Convert dt_iso to datetime type\n",
    "parsed_dates = dt_iso_series.str.extract(r\"^([\\d-]+\\s[\\d:]+)\").str.to_datetime(\n",
    "    \"%Y-%m-%d %H:%M:%S\"\n",
    ")\n",
    "\n",
    "# Define the date range boundaries\n",
    "start_date = pl.datetime(2015, 1, 1, 0, 0, 0)\n",
    "end_date = pl.datetime(2025, 1, 1, 23, 59, 59)\n",
    "\n",
    "# Check if all dates are within the expected range\n",
    "dates_in_range = parsed_dates.filter(\n",
    "  parsed_dates.is_between(start_date, end_date)\n",
    ")\n",
    "\n",
    "# Count records in range vs total records\n",
    "total_records = len(parsed_dates)\n",
    "records_in_range = len(dates_in_range)\n",
    "all_records_in_range = total_records == records_in_range\n",
    "print(f\"All records in range: {all_records_in_range}\")\n"
   ]
  },
  {
   "cell_type": "code",
   "execution_count": 16,
   "metadata": {},
   "outputs": [
    {
     "name": "stdout",
     "output_type": "stream",
     "text": [
      "All temps in range: True\n"
     ]
    }
   ],
   "source": [
    "temp_series = df[\"temp\"]\n",
    "min_temp = 180\n",
    "max_temp = 340\n",
    "temps_in_range = temp_series.filter(temp_series.is_between(min_temp, max_temp))\n",
    "all_temps_in_range = len(temps_in_range) == len(temp_series)\n",
    "print(f\"All temps in range: {all_temps_in_range}\")\n"
   ]
  },
  {
   "cell_type": "code",
   "execution_count": null,
   "metadata": {},
   "outputs": [],
   "source": []
  }
 ],
 "metadata": {
  "kernelspec": {
   "display_name": ".venv",
   "language": "python",
   "name": "python3"
  },
  "language_info": {
   "codemirror_mode": {
    "name": "ipython",
    "version": 3
   },
   "file_extension": ".py",
   "mimetype": "text/x-python",
   "name": "python",
   "nbconvert_exporter": "python",
   "pygments_lexer": "ipython3",
   "version": "3.12.9"
  }
 },
 "nbformat": 4,
 "nbformat_minor": 2
}
