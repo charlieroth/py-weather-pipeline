{
 "cells": [
  {
   "cell_type": "code",
   "execution_count": 1,
   "metadata": {},
   "outputs": [],
   "source": [
    "import polars as pl"
   ]
  },
  {
   "cell_type": "code",
   "execution_count": 2,
   "metadata": {},
   "outputs": [],
   "source": [
    "csv_file_path = \"/Users/charlie/github.com/charlieroth/py-weather-pipeline/data/livonia-20150101-20250101.csv\""
   ]
  },
  {
   "cell_type": "code",
   "execution_count": 3,
   "metadata": {},
   "outputs": [
    {
     "data": {
      "text/html": [
       "<div><style>\n",
       ".dataframe > thead > tr,\n",
       ".dataframe > tbody > tr {\n",
       "  text-align: right;\n",
       "  white-space: pre-wrap;\n",
       "}\n",
       "</style>\n",
       "<small>shape: (10, 24)</small><table border=\"1\" class=\"dataframe\"><thead><tr><th>dt_iso</th><th>city_name</th><th>lat</th><th>lon</th><th>temp</th><th>visibility</th><th>dew_point</th><th>feels_like</th><th>temp_min</th><th>temp_max</th><th>pressure</th><th>sea_level</th><th>grnd_level</th><th>humidity</th><th>wind_speed</th><th>wind_deg</th><th>wind_gust</th><th>rain_1h</th><th>rain_3h</th><th>snow_1h</th><th>snow_3h</th><th>clouds_all</th><th>weather_main</th><th>weather_description</th></tr><tr><td>str</td><td>str</td><td>f64</td><td>f64</td><td>f64</td><td>i64</td><td>f64</td><td>f64</td><td>f64</td><td>f64</td><td>i64</td><td>str</td><td>str</td><td>i64</td><td>f64</td><td>i64</td><td>f64</td><td>str</td><td>str</td><td>f64</td><td>str</td><td>i64</td><td>str</td><td>str</td></tr></thead><tbody><tr><td>&quot;2015-01-01 00:00:00 +0000 UTC&quot;</td><td>&quot;Livonia&quot;</td><td>42.36837</td><td>-83.35271</td><td>264.66</td><td>10000</td><td>256.1</td><td>257.66</td><td>264.51</td><td>265.0</td><td>1024</td><td>null</td><td>null</td><td>46</td><td>6.2</td><td>220</td><td>null</td><td>null</td><td>null</td><td>null</td><td>null</td><td>40</td><td>&quot;Clouds&quot;</td><td>&quot;scattered clouds&quot;</td></tr><tr><td>&quot;2015-01-01 01:00:00 +0000 UTC&quot;</td><td>&quot;Livonia&quot;</td><td>42.36837</td><td>-83.35271</td><td>264.64</td><td>10000</td><td>256.08</td><td>257.64</td><td>264.42</td><td>264.99</td><td>1023</td><td>null</td><td>null</td><td>46</td><td>7.2</td><td>200</td><td>10.8</td><td>null</td><td>null</td><td>null</td><td>null</td><td>20</td><td>&quot;Clouds&quot;</td><td>&quot;few clouds&quot;</td></tr><tr><td>&quot;2015-01-01 02:00:00 +0000 UTC&quot;</td><td>&quot;Livonia&quot;</td><td>42.36837</td><td>-83.35271</td><td>264.62</td><td>10000</td><td>256.96</td><td>257.62</td><td>264.36</td><td>264.97</td><td>1022</td><td>null</td><td>null</td><td>50</td><td>10.3</td><td>210</td><td>null</td><td>null</td><td>null</td><td>null</td><td>null</td><td>75</td><td>&quot;Clouds&quot;</td><td>&quot;broken clouds&quot;</td></tr><tr><td>&quot;2015-01-01 03:00:00 +0000 UTC&quot;</td><td>&quot;Livonia&quot;</td><td>42.36837</td><td>-83.35271</td><td>264.96</td><td>10000</td><td>257.9</td><td>257.96</td><td>264.66</td><td>265.26</td><td>1022</td><td>null</td><td>null</td><td>53</td><td>10.8</td><td>220</td><td>null</td><td>null</td><td>null</td><td>null</td><td>null</td><td>40</td><td>&quot;Clouds&quot;</td><td>&quot;scattered clouds&quot;</td></tr><tr><td>&quot;2015-01-01 04:00:00 +0000 UTC&quot;</td><td>&quot;Livonia&quot;</td><td>42.36837</td><td>-83.35271</td><td>265.13</td><td>10000</td><td>258.07</td><td>258.13</td><td>264.86</td><td>265.38</td><td>1021</td><td>null</td><td>null</td><td>53</td><td>8.2</td><td>220</td><td>null</td><td>null</td><td>null</td><td>null</td><td>null</td><td>100</td><td>&quot;Clouds&quot;</td><td>&quot;overcast clouds&quot;</td></tr><tr><td>&quot;2015-01-01 05:00:00 +0000 UTC&quot;</td><td>&quot;Livonia&quot;</td><td>42.36837</td><td>-83.35271</td><td>265.33</td><td>10000</td><td>258.85</td><td>258.33</td><td>265.11</td><td>265.5</td><td>1021</td><td>null</td><td>null</td><td>56</td><td>7.2</td><td>220</td><td>10.8</td><td>null</td><td>null</td><td>null</td><td>null</td><td>75</td><td>&quot;Clouds&quot;</td><td>&quot;broken clouds&quot;</td></tr><tr><td>&quot;2015-01-01 06:00:00 +0000 UTC&quot;</td><td>&quot;Livonia&quot;</td><td>42.36837</td><td>-83.35271</td><td>265.57</td><td>10000</td><td>259.47</td><td>258.57</td><td>265.34</td><td>265.8</td><td>1020</td><td>null</td><td>null</td><td>58</td><td>7.7</td><td>220</td><td>null</td><td>null</td><td>null</td><td>null</td><td>null</td><td>100</td><td>&quot;Clouds&quot;</td><td>&quot;overcast clouds&quot;</td></tr><tr><td>&quot;2015-01-01 07:00:00 +0000 UTC&quot;</td><td>&quot;Livonia&quot;</td><td>42.36837</td><td>-83.35271</td><td>265.59</td><td>10000</td><td>259.1</td><td>258.59</td><td>265.4</td><td>265.94</td><td>1019</td><td>null</td><td>null</td><td>56</td><td>7.7</td><td>210</td><td>12.4</td><td>null</td><td>null</td><td>null</td><td>null</td><td>100</td><td>&quot;Clouds&quot;</td><td>&quot;overcast clouds&quot;</td></tr><tr><td>&quot;2015-01-01 08:00:00 +0000 UTC&quot;</td><td>&quot;Livonia&quot;</td><td>42.36837</td><td>-83.35271</td><td>265.63</td><td>10000</td><td>259.52</td><td>258.63</td><td>265.34</td><td>265.88</td><td>1019</td><td>null</td><td>null</td><td>58</td><td>7.2</td><td>210</td><td>10.3</td><td>null</td><td>null</td><td>null</td><td>null</td><td>75</td><td>&quot;Clouds&quot;</td><td>&quot;broken clouds&quot;</td></tr><tr><td>&quot;2015-01-01 09:00:00 +0000 UTC&quot;</td><td>&quot;Livonia&quot;</td><td>42.36837</td><td>-83.35271</td><td>265.78</td><td>10000</td><td>259.28</td><td>258.78</td><td>265.34</td><td>266.06</td><td>1019</td><td>null</td><td>null</td><td>56</td><td>6.7</td><td>210</td><td>null</td><td>null</td><td>null</td><td>null</td><td>null</td><td>40</td><td>&quot;Clouds&quot;</td><td>&quot;scattered clouds&quot;</td></tr></tbody></table></div>"
      ],
      "text/plain": [
       "shape: (10, 24)\n",
       "┌────────────┬───────────┬──────────┬───────────┬───┬─────────┬────────────┬───────────┬───────────┐\n",
       "│ dt_iso     ┆ city_name ┆ lat      ┆ lon       ┆ … ┆ snow_3h ┆ clouds_all ┆ weather_m ┆ weather_d │\n",
       "│ ---        ┆ ---       ┆ ---      ┆ ---       ┆   ┆ ---     ┆ ---        ┆ ain       ┆ escriptio │\n",
       "│ str        ┆ str       ┆ f64      ┆ f64       ┆   ┆ str     ┆ i64        ┆ ---       ┆ n         │\n",
       "│            ┆           ┆          ┆           ┆   ┆         ┆            ┆ str       ┆ ---       │\n",
       "│            ┆           ┆          ┆           ┆   ┆         ┆            ┆           ┆ str       │\n",
       "╞════════════╪═══════════╪══════════╪═══════════╪═══╪═════════╪════════════╪═══════════╪═══════════╡\n",
       "│ 2015-01-01 ┆ Livonia   ┆ 42.36837 ┆ -83.35271 ┆ … ┆ null    ┆ 40         ┆ Clouds    ┆ scattered │\n",
       "│ 00:00:00   ┆           ┆          ┆           ┆   ┆         ┆            ┆           ┆ clouds    │\n",
       "│ +0000 UTC  ┆           ┆          ┆           ┆   ┆         ┆            ┆           ┆           │\n",
       "│ 2015-01-01 ┆ Livonia   ┆ 42.36837 ┆ -83.35271 ┆ … ┆ null    ┆ 20         ┆ Clouds    ┆ few       │\n",
       "│ 01:00:00   ┆           ┆          ┆           ┆   ┆         ┆            ┆           ┆ clouds    │\n",
       "│ +0000 UTC  ┆           ┆          ┆           ┆   ┆         ┆            ┆           ┆           │\n",
       "│ 2015-01-01 ┆ Livonia   ┆ 42.36837 ┆ -83.35271 ┆ … ┆ null    ┆ 75         ┆ Clouds    ┆ broken    │\n",
       "│ 02:00:00   ┆           ┆          ┆           ┆   ┆         ┆            ┆           ┆ clouds    │\n",
       "│ +0000 UTC  ┆           ┆          ┆           ┆   ┆         ┆            ┆           ┆           │\n",
       "│ 2015-01-01 ┆ Livonia   ┆ 42.36837 ┆ -83.35271 ┆ … ┆ null    ┆ 40         ┆ Clouds    ┆ scattered │\n",
       "│ 03:00:00   ┆           ┆          ┆           ┆   ┆         ┆            ┆           ┆ clouds    │\n",
       "│ +0000 UTC  ┆           ┆          ┆           ┆   ┆         ┆            ┆           ┆           │\n",
       "│ 2015-01-01 ┆ Livonia   ┆ 42.36837 ┆ -83.35271 ┆ … ┆ null    ┆ 100        ┆ Clouds    ┆ overcast  │\n",
       "│ 04:00:00   ┆           ┆          ┆           ┆   ┆         ┆            ┆           ┆ clouds    │\n",
       "│ +0000 UTC  ┆           ┆          ┆           ┆   ┆         ┆            ┆           ┆           │\n",
       "│ 2015-01-01 ┆ Livonia   ┆ 42.36837 ┆ -83.35271 ┆ … ┆ null    ┆ 75         ┆ Clouds    ┆ broken    │\n",
       "│ 05:00:00   ┆           ┆          ┆           ┆   ┆         ┆            ┆           ┆ clouds    │\n",
       "│ +0000 UTC  ┆           ┆          ┆           ┆   ┆         ┆            ┆           ┆           │\n",
       "│ 2015-01-01 ┆ Livonia   ┆ 42.36837 ┆ -83.35271 ┆ … ┆ null    ┆ 100        ┆ Clouds    ┆ overcast  │\n",
       "│ 06:00:00   ┆           ┆          ┆           ┆   ┆         ┆            ┆           ┆ clouds    │\n",
       "│ +0000 UTC  ┆           ┆          ┆           ┆   ┆         ┆            ┆           ┆           │\n",
       "│ 2015-01-01 ┆ Livonia   ┆ 42.36837 ┆ -83.35271 ┆ … ┆ null    ┆ 100        ┆ Clouds    ┆ overcast  │\n",
       "│ 07:00:00   ┆           ┆          ┆           ┆   ┆         ┆            ┆           ┆ clouds    │\n",
       "│ +0000 UTC  ┆           ┆          ┆           ┆   ┆         ┆            ┆           ┆           │\n",
       "│ 2015-01-01 ┆ Livonia   ┆ 42.36837 ┆ -83.35271 ┆ … ┆ null    ┆ 75         ┆ Clouds    ┆ broken    │\n",
       "│ 08:00:00   ┆           ┆          ┆           ┆   ┆         ┆            ┆           ┆ clouds    │\n",
       "│ +0000 UTC  ┆           ┆          ┆           ┆   ┆         ┆            ┆           ┆           │\n",
       "│ 2015-01-01 ┆ Livonia   ┆ 42.36837 ┆ -83.35271 ┆ … ┆ null    ┆ 40         ┆ Clouds    ┆ scattered │\n",
       "│ 09:00:00   ┆           ┆          ┆           ┆   ┆         ┆            ┆           ┆ clouds    │\n",
       "│ +0000 UTC  ┆           ┆          ┆           ┆   ┆         ┆            ┆           ┆           │\n",
       "└────────────┴───────────┴──────────┴───────────┴───┴─────────┴────────────┴───────────┴───────────┘"
      ]
     },
     "execution_count": 3,
     "metadata": {},
     "output_type": "execute_result"
    }
   ],
   "source": [
    "df = pl.read_csv(\n",
    "  csv_file_path,\n",
    "  null_values=[\"null\"]\n",
    ")\n",
    "df = df.drop([\n",
    "  \"dt\",\n",
    "  \"weather_icon\",\n",
    "  \"timezone\",\n",
    "  \"weather_id\"\n",
    "])\n",
    "\n",
    "\n",
    "df.head(n=10)"
   ]
  },
  {
   "cell_type": "code",
   "execution_count": 4,
   "metadata": {},
   "outputs": [
    {
     "data": {
      "text/html": [
       "<div><style>\n",
       ".dataframe > thead > tr,\n",
       ".dataframe > tbody > tr {\n",
       "  text-align: right;\n",
       "  white-space: pre-wrap;\n",
       "}\n",
       "</style>\n",
       "<small>shape: (10, 24)</small><table border=\"1\" class=\"dataframe\"><thead><tr><th>dt_iso</th><th>city_name</th><th>lat</th><th>lon</th><th>temp</th><th>visibility</th><th>dew_point</th><th>feels_like</th><th>temp_min</th><th>temp_max</th><th>pressure</th><th>sea_level</th><th>grnd_level</th><th>humidity</th><th>wind_speed</th><th>wind_deg</th><th>wind_gust</th><th>rain_1h</th><th>rain_3h</th><th>snow_1h</th><th>snow_3h</th><th>clouds_all</th><th>weather_main</th><th>weather_description</th></tr><tr><td>datetime[μs]</td><td>str</td><td>f64</td><td>f64</td><td>f64</td><td>i64</td><td>f64</td><td>f64</td><td>f64</td><td>f64</td><td>i64</td><td>str</td><td>str</td><td>i64</td><td>f64</td><td>i64</td><td>f64</td><td>str</td><td>str</td><td>f64</td><td>str</td><td>i64</td><td>str</td><td>str</td></tr></thead><tbody><tr><td>2015-01-01 00:00:00</td><td>&quot;Livonia&quot;</td><td>42.36837</td><td>-83.35271</td><td>264.66</td><td>10000</td><td>256.1</td><td>257.66</td><td>264.51</td><td>265.0</td><td>1024</td><td>null</td><td>null</td><td>46</td><td>6.2</td><td>220</td><td>null</td><td>null</td><td>null</td><td>null</td><td>null</td><td>40</td><td>&quot;Clouds&quot;</td><td>&quot;scattered clouds&quot;</td></tr><tr><td>2015-01-01 01:00:00</td><td>&quot;Livonia&quot;</td><td>42.36837</td><td>-83.35271</td><td>264.64</td><td>10000</td><td>256.08</td><td>257.64</td><td>264.42</td><td>264.99</td><td>1023</td><td>null</td><td>null</td><td>46</td><td>7.2</td><td>200</td><td>10.8</td><td>null</td><td>null</td><td>null</td><td>null</td><td>20</td><td>&quot;Clouds&quot;</td><td>&quot;few clouds&quot;</td></tr><tr><td>2015-01-01 02:00:00</td><td>&quot;Livonia&quot;</td><td>42.36837</td><td>-83.35271</td><td>264.62</td><td>10000</td><td>256.96</td><td>257.62</td><td>264.36</td><td>264.97</td><td>1022</td><td>null</td><td>null</td><td>50</td><td>10.3</td><td>210</td><td>null</td><td>null</td><td>null</td><td>null</td><td>null</td><td>75</td><td>&quot;Clouds&quot;</td><td>&quot;broken clouds&quot;</td></tr><tr><td>2015-01-01 03:00:00</td><td>&quot;Livonia&quot;</td><td>42.36837</td><td>-83.35271</td><td>264.96</td><td>10000</td><td>257.9</td><td>257.96</td><td>264.66</td><td>265.26</td><td>1022</td><td>null</td><td>null</td><td>53</td><td>10.8</td><td>220</td><td>null</td><td>null</td><td>null</td><td>null</td><td>null</td><td>40</td><td>&quot;Clouds&quot;</td><td>&quot;scattered clouds&quot;</td></tr><tr><td>2015-01-01 04:00:00</td><td>&quot;Livonia&quot;</td><td>42.36837</td><td>-83.35271</td><td>265.13</td><td>10000</td><td>258.07</td><td>258.13</td><td>264.86</td><td>265.38</td><td>1021</td><td>null</td><td>null</td><td>53</td><td>8.2</td><td>220</td><td>null</td><td>null</td><td>null</td><td>null</td><td>null</td><td>100</td><td>&quot;Clouds&quot;</td><td>&quot;overcast clouds&quot;</td></tr><tr><td>2015-01-01 05:00:00</td><td>&quot;Livonia&quot;</td><td>42.36837</td><td>-83.35271</td><td>265.33</td><td>10000</td><td>258.85</td><td>258.33</td><td>265.11</td><td>265.5</td><td>1021</td><td>null</td><td>null</td><td>56</td><td>7.2</td><td>220</td><td>10.8</td><td>null</td><td>null</td><td>null</td><td>null</td><td>75</td><td>&quot;Clouds&quot;</td><td>&quot;broken clouds&quot;</td></tr><tr><td>2015-01-01 06:00:00</td><td>&quot;Livonia&quot;</td><td>42.36837</td><td>-83.35271</td><td>265.57</td><td>10000</td><td>259.47</td><td>258.57</td><td>265.34</td><td>265.8</td><td>1020</td><td>null</td><td>null</td><td>58</td><td>7.7</td><td>220</td><td>null</td><td>null</td><td>null</td><td>null</td><td>null</td><td>100</td><td>&quot;Clouds&quot;</td><td>&quot;overcast clouds&quot;</td></tr><tr><td>2015-01-01 07:00:00</td><td>&quot;Livonia&quot;</td><td>42.36837</td><td>-83.35271</td><td>265.59</td><td>10000</td><td>259.1</td><td>258.59</td><td>265.4</td><td>265.94</td><td>1019</td><td>null</td><td>null</td><td>56</td><td>7.7</td><td>210</td><td>12.4</td><td>null</td><td>null</td><td>null</td><td>null</td><td>100</td><td>&quot;Clouds&quot;</td><td>&quot;overcast clouds&quot;</td></tr><tr><td>2015-01-01 08:00:00</td><td>&quot;Livonia&quot;</td><td>42.36837</td><td>-83.35271</td><td>265.63</td><td>10000</td><td>259.52</td><td>258.63</td><td>265.34</td><td>265.88</td><td>1019</td><td>null</td><td>null</td><td>58</td><td>7.2</td><td>210</td><td>10.3</td><td>null</td><td>null</td><td>null</td><td>null</td><td>75</td><td>&quot;Clouds&quot;</td><td>&quot;broken clouds&quot;</td></tr><tr><td>2015-01-01 09:00:00</td><td>&quot;Livonia&quot;</td><td>42.36837</td><td>-83.35271</td><td>265.78</td><td>10000</td><td>259.28</td><td>258.78</td><td>265.34</td><td>266.06</td><td>1019</td><td>null</td><td>null</td><td>56</td><td>6.7</td><td>210</td><td>null</td><td>null</td><td>null</td><td>null</td><td>null</td><td>40</td><td>&quot;Clouds&quot;</td><td>&quot;scattered clouds&quot;</td></tr></tbody></table></div>"
      ],
      "text/plain": [
       "shape: (10, 24)\n",
       "┌────────────┬───────────┬──────────┬───────────┬───┬─────────┬────────────┬───────────┬───────────┐\n",
       "│ dt_iso     ┆ city_name ┆ lat      ┆ lon       ┆ … ┆ snow_3h ┆ clouds_all ┆ weather_m ┆ weather_d │\n",
       "│ ---        ┆ ---       ┆ ---      ┆ ---       ┆   ┆ ---     ┆ ---        ┆ ain       ┆ escriptio │\n",
       "│ datetime[μ ┆ str       ┆ f64      ┆ f64       ┆   ┆ str     ┆ i64        ┆ ---       ┆ n         │\n",
       "│ s]         ┆           ┆          ┆           ┆   ┆         ┆            ┆ str       ┆ ---       │\n",
       "│            ┆           ┆          ┆           ┆   ┆         ┆            ┆           ┆ str       │\n",
       "╞════════════╪═══════════╪══════════╪═══════════╪═══╪═════════╪════════════╪═══════════╪═══════════╡\n",
       "│ 2015-01-01 ┆ Livonia   ┆ 42.36837 ┆ -83.35271 ┆ … ┆ null    ┆ 40         ┆ Clouds    ┆ scattered │\n",
       "│ 00:00:00   ┆           ┆          ┆           ┆   ┆         ┆            ┆           ┆ clouds    │\n",
       "│ 2015-01-01 ┆ Livonia   ┆ 42.36837 ┆ -83.35271 ┆ … ┆ null    ┆ 20         ┆ Clouds    ┆ few       │\n",
       "│ 01:00:00   ┆           ┆          ┆           ┆   ┆         ┆            ┆           ┆ clouds    │\n",
       "│ 2015-01-01 ┆ Livonia   ┆ 42.36837 ┆ -83.35271 ┆ … ┆ null    ┆ 75         ┆ Clouds    ┆ broken    │\n",
       "│ 02:00:00   ┆           ┆          ┆           ┆   ┆         ┆            ┆           ┆ clouds    │\n",
       "│ 2015-01-01 ┆ Livonia   ┆ 42.36837 ┆ -83.35271 ┆ … ┆ null    ┆ 40         ┆ Clouds    ┆ scattered │\n",
       "│ 03:00:00   ┆           ┆          ┆           ┆   ┆         ┆            ┆           ┆ clouds    │\n",
       "│ 2015-01-01 ┆ Livonia   ┆ 42.36837 ┆ -83.35271 ┆ … ┆ null    ┆ 100        ┆ Clouds    ┆ overcast  │\n",
       "│ 04:00:00   ┆           ┆          ┆           ┆   ┆         ┆            ┆           ┆ clouds    │\n",
       "│ 2015-01-01 ┆ Livonia   ┆ 42.36837 ┆ -83.35271 ┆ … ┆ null    ┆ 75         ┆ Clouds    ┆ broken    │\n",
       "│ 05:00:00   ┆           ┆          ┆           ┆   ┆         ┆            ┆           ┆ clouds    │\n",
       "│ 2015-01-01 ┆ Livonia   ┆ 42.36837 ┆ -83.35271 ┆ … ┆ null    ┆ 100        ┆ Clouds    ┆ overcast  │\n",
       "│ 06:00:00   ┆           ┆          ┆           ┆   ┆         ┆            ┆           ┆ clouds    │\n",
       "│ 2015-01-01 ┆ Livonia   ┆ 42.36837 ┆ -83.35271 ┆ … ┆ null    ┆ 100        ┆ Clouds    ┆ overcast  │\n",
       "│ 07:00:00   ┆           ┆          ┆           ┆   ┆         ┆            ┆           ┆ clouds    │\n",
       "│ 2015-01-01 ┆ Livonia   ┆ 42.36837 ┆ -83.35271 ┆ … ┆ null    ┆ 75         ┆ Clouds    ┆ broken    │\n",
       "│ 08:00:00   ┆           ┆          ┆           ┆   ┆         ┆            ┆           ┆ clouds    │\n",
       "│ 2015-01-01 ┆ Livonia   ┆ 42.36837 ┆ -83.35271 ┆ … ┆ null    ┆ 40         ┆ Clouds    ┆ scattered │\n",
       "│ 09:00:00   ┆           ┆          ┆           ┆   ┆         ┆            ┆           ┆ clouds    │\n",
       "└────────────┴───────────┴──────────┴───────────┴───┴─────────┴────────────┴───────────┴───────────┘"
      ]
     },
     "execution_count": 4,
     "metadata": {},
     "output_type": "execute_result"
    }
   ],
   "source": [
    "df = df.with_columns(\n",
    "  pl.col(\"dt_iso\").str.replace(\" \\\\+0000 UTC$\", \"\").alias(\"dt_iso\")\n",
    ")\n",
    "\n",
    "df = df.with_columns(\n",
    "  pl.col(\"dt_iso\").str.strptime(\n",
    "    dtype=pl.Datetime,\n",
    "    format=\"%Y-%m-%d %H:%M:%S\"\n",
    "  ).alias(\"dt_iso\")\n",
    ")\n",
    "\n",
    "df.head(n=10)"
   ]
  },
  {
   "cell_type": "code",
   "execution_count": 5,
   "metadata": {},
   "outputs": [
    {
     "data": {
      "text/html": [
       "<div><style>\n",
       ".dataframe > thead > tr,\n",
       ".dataframe > tbody > tr {\n",
       "  text-align: right;\n",
       "  white-space: pre-wrap;\n",
       "}\n",
       "</style>\n",
       "<small>shape: (10, 24)</small><table border=\"1\" class=\"dataframe\"><thead><tr><th>dt_iso</th><th>city_name</th><th>lat</th><th>lon</th><th>temp</th><th>visibility</th><th>dew_point</th><th>feels_like</th><th>temp_min</th><th>temp_max</th><th>pressure</th><th>sea_level</th><th>grnd_level</th><th>humidity</th><th>wind_speed</th><th>wind_deg</th><th>wind_gust</th><th>rain_1h</th><th>rain_3h</th><th>snow_1h</th><th>snow_3h</th><th>clouds_all</th><th>weather_main</th><th>weather_description</th></tr><tr><td>datetime[μs]</td><td>str</td><td>f64</td><td>f64</td><td>f64</td><td>i64</td><td>f64</td><td>f64</td><td>f64</td><td>f64</td><td>i64</td><td>str</td><td>str</td><td>i64</td><td>f64</td><td>i64</td><td>f64</td><td>f64</td><td>f64</td><td>f64</td><td>f64</td><td>i64</td><td>str</td><td>str</td></tr></thead><tbody><tr><td>2015-01-01 00:00:00</td><td>&quot;Livonia&quot;</td><td>42.36837</td><td>-83.35271</td><td>264.66</td><td>10000</td><td>256.1</td><td>257.66</td><td>264.51</td><td>265.0</td><td>1024</td><td>null</td><td>null</td><td>46</td><td>6.2</td><td>220</td><td>null</td><td>null</td><td>null</td><td>null</td><td>null</td><td>40</td><td>&quot;Clouds&quot;</td><td>&quot;scattered clouds&quot;</td></tr><tr><td>2015-01-01 01:00:00</td><td>&quot;Livonia&quot;</td><td>42.36837</td><td>-83.35271</td><td>264.64</td><td>10000</td><td>256.08</td><td>257.64</td><td>264.42</td><td>264.99</td><td>1023</td><td>null</td><td>null</td><td>46</td><td>7.2</td><td>200</td><td>10.8</td><td>null</td><td>null</td><td>null</td><td>null</td><td>20</td><td>&quot;Clouds&quot;</td><td>&quot;few clouds&quot;</td></tr><tr><td>2015-01-01 02:00:00</td><td>&quot;Livonia&quot;</td><td>42.36837</td><td>-83.35271</td><td>264.62</td><td>10000</td><td>256.96</td><td>257.62</td><td>264.36</td><td>264.97</td><td>1022</td><td>null</td><td>null</td><td>50</td><td>10.3</td><td>210</td><td>null</td><td>null</td><td>null</td><td>null</td><td>null</td><td>75</td><td>&quot;Clouds&quot;</td><td>&quot;broken clouds&quot;</td></tr><tr><td>2015-01-01 03:00:00</td><td>&quot;Livonia&quot;</td><td>42.36837</td><td>-83.35271</td><td>264.96</td><td>10000</td><td>257.9</td><td>257.96</td><td>264.66</td><td>265.26</td><td>1022</td><td>null</td><td>null</td><td>53</td><td>10.8</td><td>220</td><td>null</td><td>null</td><td>null</td><td>null</td><td>null</td><td>40</td><td>&quot;Clouds&quot;</td><td>&quot;scattered clouds&quot;</td></tr><tr><td>2015-01-01 04:00:00</td><td>&quot;Livonia&quot;</td><td>42.36837</td><td>-83.35271</td><td>265.13</td><td>10000</td><td>258.07</td><td>258.13</td><td>264.86</td><td>265.38</td><td>1021</td><td>null</td><td>null</td><td>53</td><td>8.2</td><td>220</td><td>null</td><td>null</td><td>null</td><td>null</td><td>null</td><td>100</td><td>&quot;Clouds&quot;</td><td>&quot;overcast clouds&quot;</td></tr><tr><td>2015-01-01 05:00:00</td><td>&quot;Livonia&quot;</td><td>42.36837</td><td>-83.35271</td><td>265.33</td><td>10000</td><td>258.85</td><td>258.33</td><td>265.11</td><td>265.5</td><td>1021</td><td>null</td><td>null</td><td>56</td><td>7.2</td><td>220</td><td>10.8</td><td>null</td><td>null</td><td>null</td><td>null</td><td>75</td><td>&quot;Clouds&quot;</td><td>&quot;broken clouds&quot;</td></tr><tr><td>2015-01-01 06:00:00</td><td>&quot;Livonia&quot;</td><td>42.36837</td><td>-83.35271</td><td>265.57</td><td>10000</td><td>259.47</td><td>258.57</td><td>265.34</td><td>265.8</td><td>1020</td><td>null</td><td>null</td><td>58</td><td>7.7</td><td>220</td><td>null</td><td>null</td><td>null</td><td>null</td><td>null</td><td>100</td><td>&quot;Clouds&quot;</td><td>&quot;overcast clouds&quot;</td></tr><tr><td>2015-01-01 07:00:00</td><td>&quot;Livonia&quot;</td><td>42.36837</td><td>-83.35271</td><td>265.59</td><td>10000</td><td>259.1</td><td>258.59</td><td>265.4</td><td>265.94</td><td>1019</td><td>null</td><td>null</td><td>56</td><td>7.7</td><td>210</td><td>12.4</td><td>null</td><td>null</td><td>null</td><td>null</td><td>100</td><td>&quot;Clouds&quot;</td><td>&quot;overcast clouds&quot;</td></tr><tr><td>2015-01-01 08:00:00</td><td>&quot;Livonia&quot;</td><td>42.36837</td><td>-83.35271</td><td>265.63</td><td>10000</td><td>259.52</td><td>258.63</td><td>265.34</td><td>265.88</td><td>1019</td><td>null</td><td>null</td><td>58</td><td>7.2</td><td>210</td><td>10.3</td><td>null</td><td>null</td><td>null</td><td>null</td><td>75</td><td>&quot;Clouds&quot;</td><td>&quot;broken clouds&quot;</td></tr><tr><td>2015-01-01 09:00:00</td><td>&quot;Livonia&quot;</td><td>42.36837</td><td>-83.35271</td><td>265.78</td><td>10000</td><td>259.28</td><td>258.78</td><td>265.34</td><td>266.06</td><td>1019</td><td>null</td><td>null</td><td>56</td><td>6.7</td><td>210</td><td>null</td><td>null</td><td>null</td><td>null</td><td>null</td><td>40</td><td>&quot;Clouds&quot;</td><td>&quot;scattered clouds&quot;</td></tr></tbody></table></div>"
      ],
      "text/plain": [
       "shape: (10, 24)\n",
       "┌────────────┬───────────┬──────────┬───────────┬───┬─────────┬────────────┬───────────┬───────────┐\n",
       "│ dt_iso     ┆ city_name ┆ lat      ┆ lon       ┆ … ┆ snow_3h ┆ clouds_all ┆ weather_m ┆ weather_d │\n",
       "│ ---        ┆ ---       ┆ ---      ┆ ---       ┆   ┆ ---     ┆ ---        ┆ ain       ┆ escriptio │\n",
       "│ datetime[μ ┆ str       ┆ f64      ┆ f64       ┆   ┆ f64     ┆ i64        ┆ ---       ┆ n         │\n",
       "│ s]         ┆           ┆          ┆           ┆   ┆         ┆            ┆ str       ┆ ---       │\n",
       "│            ┆           ┆          ┆           ┆   ┆         ┆            ┆           ┆ str       │\n",
       "╞════════════╪═══════════╪══════════╪═══════════╪═══╪═════════╪════════════╪═══════════╪═══════════╡\n",
       "│ 2015-01-01 ┆ Livonia   ┆ 42.36837 ┆ -83.35271 ┆ … ┆ null    ┆ 40         ┆ Clouds    ┆ scattered │\n",
       "│ 00:00:00   ┆           ┆          ┆           ┆   ┆         ┆            ┆           ┆ clouds    │\n",
       "│ 2015-01-01 ┆ Livonia   ┆ 42.36837 ┆ -83.35271 ┆ … ┆ null    ┆ 20         ┆ Clouds    ┆ few       │\n",
       "│ 01:00:00   ┆           ┆          ┆           ┆   ┆         ┆            ┆           ┆ clouds    │\n",
       "│ 2015-01-01 ┆ Livonia   ┆ 42.36837 ┆ -83.35271 ┆ … ┆ null    ┆ 75         ┆ Clouds    ┆ broken    │\n",
       "│ 02:00:00   ┆           ┆          ┆           ┆   ┆         ┆            ┆           ┆ clouds    │\n",
       "│ 2015-01-01 ┆ Livonia   ┆ 42.36837 ┆ -83.35271 ┆ … ┆ null    ┆ 40         ┆ Clouds    ┆ scattered │\n",
       "│ 03:00:00   ┆           ┆          ┆           ┆   ┆         ┆            ┆           ┆ clouds    │\n",
       "│ 2015-01-01 ┆ Livonia   ┆ 42.36837 ┆ -83.35271 ┆ … ┆ null    ┆ 100        ┆ Clouds    ┆ overcast  │\n",
       "│ 04:00:00   ┆           ┆          ┆           ┆   ┆         ┆            ┆           ┆ clouds    │\n",
       "│ 2015-01-01 ┆ Livonia   ┆ 42.36837 ┆ -83.35271 ┆ … ┆ null    ┆ 75         ┆ Clouds    ┆ broken    │\n",
       "│ 05:00:00   ┆           ┆          ┆           ┆   ┆         ┆            ┆           ┆ clouds    │\n",
       "│ 2015-01-01 ┆ Livonia   ┆ 42.36837 ┆ -83.35271 ┆ … ┆ null    ┆ 100        ┆ Clouds    ┆ overcast  │\n",
       "│ 06:00:00   ┆           ┆          ┆           ┆   ┆         ┆            ┆           ┆ clouds    │\n",
       "│ 2015-01-01 ┆ Livonia   ┆ 42.36837 ┆ -83.35271 ┆ … ┆ null    ┆ 100        ┆ Clouds    ┆ overcast  │\n",
       "│ 07:00:00   ┆           ┆          ┆           ┆   ┆         ┆            ┆           ┆ clouds    │\n",
       "│ 2015-01-01 ┆ Livonia   ┆ 42.36837 ┆ -83.35271 ┆ … ┆ null    ┆ 75         ┆ Clouds    ┆ broken    │\n",
       "│ 08:00:00   ┆           ┆          ┆           ┆   ┆         ┆            ┆           ┆ clouds    │\n",
       "│ 2015-01-01 ┆ Livonia   ┆ 42.36837 ┆ -83.35271 ┆ … ┆ null    ┆ 40         ┆ Clouds    ┆ scattered │\n",
       "│ 09:00:00   ┆           ┆          ┆           ┆   ┆         ┆            ┆           ┆ clouds    │\n",
       "└────────────┴───────────┴──────────┴───────────┴───┴─────────┴────────────┴───────────┴───────────┘"
      ]
     },
     "execution_count": 5,
     "metadata": {},
     "output_type": "execute_result"
    }
   ],
   "source": [
    "df = df.with_columns(\n",
    "  pl.col(\"rain_1h\").cast(pl.Float64, strict=False).alias(\"rain_1h\"),\n",
    "  pl.col(\"rain_3h\").cast(pl.Float64, strict=False).alias(\"rain_3h\"),\n",
    "  pl.col(\"snow_1h\").cast(pl.Float64, strict=False).alias(\"snow_1h\"),\n",
    "  pl.col(\"snow_3h\").cast(pl.Float64, strict=False).alias(\"snow_3h\")\n",
    ")\n",
    "\n",
    "df.head(n=10)"
   ]
  },
  {
   "cell_type": "code",
   "execution_count": 6,
   "metadata": {},
   "outputs": [
    {
     "data": {
      "text/html": [
       "<div><style>\n",
       ".dataframe > thead > tr,\n",
       ".dataframe > tbody > tr {\n",
       "  text-align: right;\n",
       "  white-space: pre-wrap;\n",
       "}\n",
       "</style>\n",
       "<small>shape: (1, 1)</small><table border=\"1\" class=\"dataframe\"><thead><tr><th>lon</th></tr><tr><td>f64</td></tr></thead><tbody><tr><td>-83.35271</td></tr></tbody></table></div>"
      ],
      "text/plain": [
       "shape: (1, 1)\n",
       "┌───────────┐\n",
       "│ lon       │\n",
       "│ ---       │\n",
       "│ f64       │\n",
       "╞═══════════╡\n",
       "│ -83.35271 │\n",
       "└───────────┘"
      ]
     },
     "execution_count": 6,
     "metadata": {},
     "output_type": "execute_result"
    }
   ],
   "source": [
    "df.select(pl.col(\"lon\")).unique()"
   ]
  },
  {
   "cell_type": "code",
   "execution_count": 7,
   "metadata": {},
   "outputs": [
    {
     "data": {
      "text/html": [
       "<div><style>\n",
       ".dataframe > thead > tr,\n",
       ".dataframe > tbody > tr {\n",
       "  text-align: right;\n",
       "  white-space: pre-wrap;\n",
       "}\n",
       "</style>\n",
       "<small>shape: (10, 25)</small><table border=\"1\" class=\"dataframe\"><thead><tr><th>dt_iso</th><th>city_name</th><th>lat</th><th>lon</th><th>temp</th><th>visibility</th><th>dew_point</th><th>feels_like</th><th>temp_min</th><th>temp_max</th><th>pressure</th><th>sea_level</th><th>grnd_level</th><th>humidity</th><th>wind_speed</th><th>wind_deg</th><th>wind_gust</th><th>rain_1h</th><th>rain_3h</th><th>snow_1h</th><th>snow_3h</th><th>clouds_all</th><th>weather_main</th><th>weather_description</th><th>temp_difference</th></tr><tr><td>datetime[μs]</td><td>str</td><td>f64</td><td>f64</td><td>f64</td><td>i64</td><td>f64</td><td>f64</td><td>f64</td><td>f64</td><td>i64</td><td>str</td><td>str</td><td>i64</td><td>f64</td><td>i64</td><td>f64</td><td>f64</td><td>f64</td><td>f64</td><td>f64</td><td>i64</td><td>str</td><td>str</td><td>f64</td></tr></thead><tbody><tr><td>2015-01-01 00:00:00</td><td>&quot;Livonia&quot;</td><td>42.36837</td><td>-83.35271</td><td>264.66</td><td>10000</td><td>256.1</td><td>257.66</td><td>264.51</td><td>265.0</td><td>1024</td><td>null</td><td>null</td><td>46</td><td>6.2</td><td>220</td><td>null</td><td>null</td><td>null</td><td>null</td><td>null</td><td>40</td><td>&quot;Clouds&quot;</td><td>&quot;scattered clouds&quot;</td><td>0.49</td></tr><tr><td>2015-01-01 01:00:00</td><td>&quot;Livonia&quot;</td><td>42.36837</td><td>-83.35271</td><td>264.64</td><td>10000</td><td>256.08</td><td>257.64</td><td>264.42</td><td>264.99</td><td>1023</td><td>null</td><td>null</td><td>46</td><td>7.2</td><td>200</td><td>10.8</td><td>null</td><td>null</td><td>null</td><td>null</td><td>20</td><td>&quot;Clouds&quot;</td><td>&quot;few clouds&quot;</td><td>0.57</td></tr><tr><td>2015-01-01 02:00:00</td><td>&quot;Livonia&quot;</td><td>42.36837</td><td>-83.35271</td><td>264.62</td><td>10000</td><td>256.96</td><td>257.62</td><td>264.36</td><td>264.97</td><td>1022</td><td>null</td><td>null</td><td>50</td><td>10.3</td><td>210</td><td>null</td><td>null</td><td>null</td><td>null</td><td>null</td><td>75</td><td>&quot;Clouds&quot;</td><td>&quot;broken clouds&quot;</td><td>0.61</td></tr><tr><td>2015-01-01 03:00:00</td><td>&quot;Livonia&quot;</td><td>42.36837</td><td>-83.35271</td><td>264.96</td><td>10000</td><td>257.9</td><td>257.96</td><td>264.66</td><td>265.26</td><td>1022</td><td>null</td><td>null</td><td>53</td><td>10.8</td><td>220</td><td>null</td><td>null</td><td>null</td><td>null</td><td>null</td><td>40</td><td>&quot;Clouds&quot;</td><td>&quot;scattered clouds&quot;</td><td>0.6</td></tr><tr><td>2015-01-01 04:00:00</td><td>&quot;Livonia&quot;</td><td>42.36837</td><td>-83.35271</td><td>265.13</td><td>10000</td><td>258.07</td><td>258.13</td><td>264.86</td><td>265.38</td><td>1021</td><td>null</td><td>null</td><td>53</td><td>8.2</td><td>220</td><td>null</td><td>null</td><td>null</td><td>null</td><td>null</td><td>100</td><td>&quot;Clouds&quot;</td><td>&quot;overcast clouds&quot;</td><td>0.52</td></tr><tr><td>2015-01-01 05:00:00</td><td>&quot;Livonia&quot;</td><td>42.36837</td><td>-83.35271</td><td>265.33</td><td>10000</td><td>258.85</td><td>258.33</td><td>265.11</td><td>265.5</td><td>1021</td><td>null</td><td>null</td><td>56</td><td>7.2</td><td>220</td><td>10.8</td><td>null</td><td>null</td><td>null</td><td>null</td><td>75</td><td>&quot;Clouds&quot;</td><td>&quot;broken clouds&quot;</td><td>0.39</td></tr><tr><td>2015-01-01 06:00:00</td><td>&quot;Livonia&quot;</td><td>42.36837</td><td>-83.35271</td><td>265.57</td><td>10000</td><td>259.47</td><td>258.57</td><td>265.34</td><td>265.8</td><td>1020</td><td>null</td><td>null</td><td>58</td><td>7.7</td><td>220</td><td>null</td><td>null</td><td>null</td><td>null</td><td>null</td><td>100</td><td>&quot;Clouds&quot;</td><td>&quot;overcast clouds&quot;</td><td>0.46</td></tr><tr><td>2015-01-01 07:00:00</td><td>&quot;Livonia&quot;</td><td>42.36837</td><td>-83.35271</td><td>265.59</td><td>10000</td><td>259.1</td><td>258.59</td><td>265.4</td><td>265.94</td><td>1019</td><td>null</td><td>null</td><td>56</td><td>7.7</td><td>210</td><td>12.4</td><td>null</td><td>null</td><td>null</td><td>null</td><td>100</td><td>&quot;Clouds&quot;</td><td>&quot;overcast clouds&quot;</td><td>0.54</td></tr><tr><td>2015-01-01 08:00:00</td><td>&quot;Livonia&quot;</td><td>42.36837</td><td>-83.35271</td><td>265.63</td><td>10000</td><td>259.52</td><td>258.63</td><td>265.34</td><td>265.88</td><td>1019</td><td>null</td><td>null</td><td>58</td><td>7.2</td><td>210</td><td>10.3</td><td>null</td><td>null</td><td>null</td><td>null</td><td>75</td><td>&quot;Clouds&quot;</td><td>&quot;broken clouds&quot;</td><td>0.54</td></tr><tr><td>2015-01-01 09:00:00</td><td>&quot;Livonia&quot;</td><td>42.36837</td><td>-83.35271</td><td>265.78</td><td>10000</td><td>259.28</td><td>258.78</td><td>265.34</td><td>266.06</td><td>1019</td><td>null</td><td>null</td><td>56</td><td>6.7</td><td>210</td><td>null</td><td>null</td><td>null</td><td>null</td><td>null</td><td>40</td><td>&quot;Clouds&quot;</td><td>&quot;scattered clouds&quot;</td><td>0.72</td></tr></tbody></table></div>"
      ],
      "text/plain": [
       "shape: (10, 25)\n",
       "┌───────────┬───────────┬──────────┬───────────┬───┬───────────┬───────────┬───────────┬───────────┐\n",
       "│ dt_iso    ┆ city_name ┆ lat      ┆ lon       ┆ … ┆ clouds_al ┆ weather_m ┆ weather_d ┆ temp_diff │\n",
       "│ ---       ┆ ---       ┆ ---      ┆ ---       ┆   ┆ l         ┆ ain       ┆ escriptio ┆ erence    │\n",
       "│ datetime[ ┆ str       ┆ f64      ┆ f64       ┆   ┆ ---       ┆ ---       ┆ n         ┆ ---       │\n",
       "│ μs]       ┆           ┆          ┆           ┆   ┆ i64       ┆ str       ┆ ---       ┆ f64       │\n",
       "│           ┆           ┆          ┆           ┆   ┆           ┆           ┆ str       ┆           │\n",
       "╞═══════════╪═══════════╪══════════╪═══════════╪═══╪═══════════╪═══════════╪═══════════╪═══════════╡\n",
       "│ 2015-01-0 ┆ Livonia   ┆ 42.36837 ┆ -83.35271 ┆ … ┆ 40        ┆ Clouds    ┆ scattered ┆ 0.49      │\n",
       "│ 1         ┆           ┆          ┆           ┆   ┆           ┆           ┆ clouds    ┆           │\n",
       "│ 00:00:00  ┆           ┆          ┆           ┆   ┆           ┆           ┆           ┆           │\n",
       "│ 2015-01-0 ┆ Livonia   ┆ 42.36837 ┆ -83.35271 ┆ … ┆ 20        ┆ Clouds    ┆ few       ┆ 0.57      │\n",
       "│ 1         ┆           ┆          ┆           ┆   ┆           ┆           ┆ clouds    ┆           │\n",
       "│ 01:00:00  ┆           ┆          ┆           ┆   ┆           ┆           ┆           ┆           │\n",
       "│ 2015-01-0 ┆ Livonia   ┆ 42.36837 ┆ -83.35271 ┆ … ┆ 75        ┆ Clouds    ┆ broken    ┆ 0.61      │\n",
       "│ 1         ┆           ┆          ┆           ┆   ┆           ┆           ┆ clouds    ┆           │\n",
       "│ 02:00:00  ┆           ┆          ┆           ┆   ┆           ┆           ┆           ┆           │\n",
       "│ 2015-01-0 ┆ Livonia   ┆ 42.36837 ┆ -83.35271 ┆ … ┆ 40        ┆ Clouds    ┆ scattered ┆ 0.6       │\n",
       "│ 1         ┆           ┆          ┆           ┆   ┆           ┆           ┆ clouds    ┆           │\n",
       "│ 03:00:00  ┆           ┆          ┆           ┆   ┆           ┆           ┆           ┆           │\n",
       "│ 2015-01-0 ┆ Livonia   ┆ 42.36837 ┆ -83.35271 ┆ … ┆ 100       ┆ Clouds    ┆ overcast  ┆ 0.52      │\n",
       "│ 1         ┆           ┆          ┆           ┆   ┆           ┆           ┆ clouds    ┆           │\n",
       "│ 04:00:00  ┆           ┆          ┆           ┆   ┆           ┆           ┆           ┆           │\n",
       "│ 2015-01-0 ┆ Livonia   ┆ 42.36837 ┆ -83.35271 ┆ … ┆ 75        ┆ Clouds    ┆ broken    ┆ 0.39      │\n",
       "│ 1         ┆           ┆          ┆           ┆   ┆           ┆           ┆ clouds    ┆           │\n",
       "│ 05:00:00  ┆           ┆          ┆           ┆   ┆           ┆           ┆           ┆           │\n",
       "│ 2015-01-0 ┆ Livonia   ┆ 42.36837 ┆ -83.35271 ┆ … ┆ 100       ┆ Clouds    ┆ overcast  ┆ 0.46      │\n",
       "│ 1         ┆           ┆          ┆           ┆   ┆           ┆           ┆ clouds    ┆           │\n",
       "│ 06:00:00  ┆           ┆          ┆           ┆   ┆           ┆           ┆           ┆           │\n",
       "│ 2015-01-0 ┆ Livonia   ┆ 42.36837 ┆ -83.35271 ┆ … ┆ 100       ┆ Clouds    ┆ overcast  ┆ 0.54      │\n",
       "│ 1         ┆           ┆          ┆           ┆   ┆           ┆           ┆ clouds    ┆           │\n",
       "│ 07:00:00  ┆           ┆          ┆           ┆   ┆           ┆           ┆           ┆           │\n",
       "│ 2015-01-0 ┆ Livonia   ┆ 42.36837 ┆ -83.35271 ┆ … ┆ 75        ┆ Clouds    ┆ broken    ┆ 0.54      │\n",
       "│ 1         ┆           ┆          ┆           ┆   ┆           ┆           ┆ clouds    ┆           │\n",
       "│ 08:00:00  ┆           ┆          ┆           ┆   ┆           ┆           ┆           ┆           │\n",
       "│ 2015-01-0 ┆ Livonia   ┆ 42.36837 ┆ -83.35271 ┆ … ┆ 40        ┆ Clouds    ┆ scattered ┆ 0.72      │\n",
       "│ 1         ┆           ┆          ┆           ┆   ┆           ┆           ┆ clouds    ┆           │\n",
       "│ 09:00:00  ┆           ┆          ┆           ┆   ┆           ┆           ┆           ┆           │\n",
       "└───────────┴───────────┴──────────┴───────────┴───┴───────────┴───────────┴───────────┴───────────┘"
      ]
     },
     "execution_count": 7,
     "metadata": {},
     "output_type": "execute_result"
    }
   ],
   "source": [
    "df = df.with_columns(\n",
    "  (pl.col(\"temp_max\") - pl.col(\"temp_min\")).alias(\"temp_difference\")\n",
    ")\n",
    "\n",
    "df.head(n=10)"
   ]
  },
  {
   "cell_type": "code",
   "execution_count": 15,
   "metadata": {},
   "outputs": [
    {
     "name": "stdout",
     "output_type": "stream",
     "text": [
      "['Mist', 'Clear', 'Haze', 'Fog', 'Thunderstorm', 'Clouds', 'Snow', 'Drizzle', 'Smoke', 'Squall', 'Rain']\n"
     ]
    }
   ],
   "source": [
    "weather_conditions = df.select(\"weather_main\").unique().to_series().to_list()\n",
    "print(weather_conditions)"
   ]
  },
  {
   "cell_type": "code",
   "execution_count": null,
   "metadata": {},
   "outputs": [],
   "source": []
  }
 ],
 "metadata": {
  "kernelspec": {
   "display_name": ".venv",
   "language": "python",
   "name": "python3"
  },
  "language_info": {
   "codemirror_mode": {
    "name": "ipython",
    "version": 3
   },
   "file_extension": ".py",
   "mimetype": "text/x-python",
   "name": "python",
   "nbconvert_exporter": "python",
   "pygments_lexer": "ipython3",
   "version": "3.12.9"
  }
 },
 "nbformat": 4,
 "nbformat_minor": 2
}
